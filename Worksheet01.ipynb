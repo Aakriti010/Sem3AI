{
  "nbformat": 4,
  "nbformat_minor": 0,
  "metadata": {
    "colab": {
      "provenance": []
    },
    "kernelspec": {
      "name": "python3",
      "display_name": "Python 3"
    },
    "language_info": {
      "name": "python"
    }
  },
  "cells": [
    {
      "cell_type": "markdown",
      "source": [
        "Warming Up Exercise: Basic Vector and Matrix Operation with Numpy.\n",
        "Problem - 1: Array Creation:\n",
        "Complete the following Tasks:\n",
        "1. Initialize an empty array with size 2X2.\n",
        "2. Initialize an all one array with size 4X2.\n",
        "3. Return a new array of given shape and type, filled with fill value.{Hint: np.full}\n",
        "4. Return a new array of zeros with same shape and type as a given array.{Hint: np.zeros like}\n",
        "5. Return a new array of ones with same shape and type as a given array.{Hint: np.ones like}\n",
        "6. For an existing list new_list = [1,2,3,4] convert to an numpy array.{Hint: np.array()}"
      ],
      "metadata": {
        "id": "ZJcQBnvW8DuI"
      }
    },
    {
      "cell_type": "code",
      "source": [
        "import numpy as np\n",
        "from numpy import linalg as lg\n",
        "import random"
      ],
      "metadata": {
        "id": "-eqB2ILT8j7O"
      },
      "execution_count": 2,
      "outputs": []
    },
    {
      "cell_type": "code",
      "source": [
        "emp_arr = np.zeros((2,2))\n",
        "print(emp_arr)"
      ],
      "metadata": {
        "colab": {
          "base_uri": "https://localhost:8080/"
        },
        "id": "DRTW2x2F_ftM",
        "outputId": "7d5e783b-1f01-4eaf-eb5a-35c2ade244ff"
      },
      "execution_count": 3,
      "outputs": [
        {
          "output_type": "stream",
          "name": "stdout",
          "text": [
            "[[0. 0.]\n",
            " [0. 0.]]\n"
          ]
        }
      ]
    },
    {
      "cell_type": "code",
      "source": [
        "all_one =np.ones(shape=(4,2))\n",
        "print(all_one)"
      ],
      "metadata": {
        "colab": {
          "base_uri": "https://localhost:8080/"
        },
        "id": "xWDLcNQRAu7l",
        "outputId": "4e7d40fb-63d5-4eff-e53d-f726542c3a8a"
      },
      "execution_count": 7,
      "outputs": [
        {
          "output_type": "stream",
          "name": "stdout",
          "text": [
            "[[1. 1.]\n",
            " [1. 1.]\n",
            " [1. 1.]\n",
            " [1. 1.]]\n"
          ]
        }
      ]
    },
    {
      "cell_type": "code",
      "source": [
        "import numpy as np\n",
        "np.full((2,2), np.inf)\n",
        "np.full((2,2), 10)"
      ],
      "metadata": {
        "colab": {
          "base_uri": "https://localhost:8080/"
        },
        "id": "hoSDmrXy_vou",
        "outputId": "7a006487-32dd-4a2d-9dcb-a496a2b6c62b"
      },
      "execution_count": 4,
      "outputs": [
        {
          "output_type": "execute_result",
          "data": {
            "text/plain": [
              "array([[10, 10],\n",
              "       [10, 10]])"
            ]
          },
          "metadata": {},
          "execution_count": 4
        }
      ]
    },
    {
      "cell_type": "code",
      "source": [
        "def shape_zero():\n",
        "    r = np.zeros_like(all_one)\n",
        "    print(r)\n",
        "shape_zero()"
      ],
      "metadata": {
        "colab": {
          "base_uri": "https://localhost:8080/"
        },
        "id": "btSrxD0fAKfb",
        "outputId": "076c72ed-109a-46bf-c34b-0f74ebd96d66"
      },
      "execution_count": 8,
      "outputs": [
        {
          "output_type": "stream",
          "name": "stdout",
          "text": [
            "[[0. 0.]\n",
            " [0. 0.]\n",
            " [0. 0.]\n",
            " [0. 0.]]\n"
          ]
        }
      ]
    },
    {
      "cell_type": "code",
      "source": [
        "def shape_one():\n",
        "    one = np.ones_like(all_one)\n",
        "    print(one)\n",
        "shape_one()"
      ],
      "metadata": {
        "colab": {
          "base_uri": "https://localhost:8080/"
        },
        "id": "QUFRb8BRBF1Q",
        "outputId": "3d029af3-cf77-4659-ed5e-f07e21b97095"
      },
      "execution_count": 9,
      "outputs": [
        {
          "output_type": "stream",
          "name": "stdout",
          "text": [
            "[[1. 1.]\n",
            " [1. 1.]\n",
            " [1. 1.]\n",
            " [1. 1.]]\n"
          ]
        }
      ]
    },
    {
      "cell_type": "code",
      "source": [
        "new_list = [1,2,3,4]\n",
        "arr_convert =np.array(new_list)\n",
        "print(type(arr_convert))"
      ],
      "metadata": {
        "colab": {
          "base_uri": "https://localhost:8080/"
        },
        "id": "JAlH2RNoBbU_",
        "outputId": "00cb4030-7a38-4ab7-f901-b2005bad000d"
      },
      "execution_count": 10,
      "outputs": [
        {
          "output_type": "stream",
          "name": "stdout",
          "text": [
            "<class 'numpy.ndarray'>\n"
          ]
        }
      ]
    },
    {
      "cell_type": "markdown",
      "source": [
        "4.1.1 Problem - 2: Array Manipulation: Numerical Ranges and Array indexing:\n",
        "Complete the following tasks:\n",
        "1. Create an array with values ranging from 10 to 49. {Hint:np.arrange()}.\n",
        "2. Create a 3X3 matrix with values ranging from 0 to 8.\n",
        "{Hint:look for np.reshape()}\n",
        "3. Create a 3X3 identity matrix.{Hint:np.eye()}\n",
        "4. Create a random array of size 30 and find the mean of the array.\n",
        "{Hint:check for np.random.random() and array.mean() function}\n",
        "5. Create a 10X10 array with random values and find the minimum and maximum values.\n",
        "6. Create a zero array of size 10 and replace 5th element with 1.\n",
        "7. Reverse an array arr = [1,2,0,0,4,0].\n",
        "8. Create a 2d array with 1 on border and 0 inside.\n",
        "9. Create a 8X8 matrix and fill it with a checkerboard pattern.\n"
      ],
      "metadata": {
        "id": "gSpG9MUtCgEp"
      }
    },
    {
      "cell_type": "markdown",
      "source": [
        "\n",
        "Create an array with values ranging from 10 to 49. {Hint:np.arrange()}bold text"
      ],
      "metadata": {
        "id": "09kQXQcjCiNr"
      }
    },
    {
      "cell_type": "code",
      "source": [
        "np.arange(10,49)\n"
      ],
      "metadata": {
        "colab": {
          "base_uri": "https://localhost:8080/"
        },
        "id": "ykQZ1FvVCoK2",
        "outputId": "cc0af2ef-185b-45d6-f174-cb31b5ae4e7e"
      },
      "execution_count": 11,
      "outputs": [
        {
          "output_type": "execute_result",
          "data": {
            "text/plain": [
              "array([10, 11, 12, 13, 14, 15, 16, 17, 18, 19, 20, 21, 22, 23, 24, 25, 26,\n",
              "       27, 28, 29, 30, 31, 32, 33, 34, 35, 36, 37, 38, 39, 40, 41, 42, 43,\n",
              "       44, 45, 46, 47, 48])"
            ]
          },
          "metadata": {},
          "execution_count": 11
        }
      ]
    },
    {
      "cell_type": "markdown",
      "source": [
        "Create a 3X3 matrix with values ranging from 0 to 8. {Hint:look for np.**reshape**"
      ],
      "metadata": {
        "id": "CRqbpNKEC87c"
      }
    },
    {
      "cell_type": "code",
      "source": [
        "np.arange(9).reshape(3,3)"
      ],
      "metadata": {
        "colab": {
          "base_uri": "https://localhost:8080/"
        },
        "id": "rwvpIRZ2DDB0",
        "outputId": "595c2a13-1be9-4e4a-e7bc-596d7cc39bb3"
      },
      "execution_count": 12,
      "outputs": [
        {
          "output_type": "execute_result",
          "data": {
            "text/plain": [
              "array([[0, 1, 2],\n",
              "       [3, 4, 5],\n",
              "       [6, 7, 8]])"
            ]
          },
          "metadata": {},
          "execution_count": 12
        }
      ]
    },
    {
      "cell_type": "markdown",
      "source": [
        "Create a 3X3 identity matrix.{Hint:np.eye()}"
      ],
      "metadata": {
        "id": "VpoCiej9EnCv"
      }
    },
    {
      "cell_type": "code",
      "source": [
        "identity_matrix = np.eye(3)\n",
        "print(\"\\n3*3 Identity Matrix:\\n\", identity_matrix)"
      ],
      "metadata": {
        "colab": {
          "base_uri": "https://localhost:8080/"
        },
        "id": "m_5mbGIpFQpk",
        "outputId": "5ecb5853-7cb7-4b8b-c065-f0e5a58aa7ef"
      },
      "execution_count": 15,
      "outputs": [
        {
          "output_type": "stream",
          "name": "stdout",
          "text": [
            "\n",
            "3*3 Identity Matrix:\n",
            " [[1. 0. 0.]\n",
            " [0. 1. 0.]\n",
            " [0. 0. 1.]]\n"
          ]
        }
      ]
    },
    {
      "cell_type": "markdown",
      "source": [
        "Create a random array of size 30 and find the mean of the array. {Hint:check for np.random.random() and array.mean() function"
      ],
      "metadata": {
        "id": "FpzYsqxmGvEV"
      }
    },
    {
      "cell_type": "code",
      "source": [
        "random_arr = np.random.randint(10,size=(30))\n",
        "print(random_arr)\n",
        "print(np.mean(random_arr))"
      ],
      "metadata": {
        "colab": {
          "base_uri": "https://localhost:8080/"
        },
        "id": "FmEL5VgDGv6B",
        "outputId": "172869d9-92cb-4b7c-b895-307ef18028c6"
      },
      "execution_count": 16,
      "outputs": [
        {
          "output_type": "stream",
          "name": "stdout",
          "text": [
            "[3 7 9 0 5 7 6 0 6 5 7 7 7 2 4 5 9 6 7 6 0 3 8 4 6 4 7 3 4 7]\n",
            "5.133333333333334\n"
          ]
        }
      ]
    },
    {
      "cell_type": "markdown",
      "source": [
        "Create a 10X10 array with random values and find the minimum and maximum values."
      ],
      "metadata": {
        "id": "LK1P2d1uHAJF"
      }
    },
    {
      "cell_type": "code",
      "source": [
        "random_arr= np.random.randint(50,size=(10,10))\n",
        "#print(random_arr)\n",
        "print(np.min(random_arr))\n",
        "print(np.max(random_arr))"
      ],
      "metadata": {
        "colab": {
          "base_uri": "https://localhost:8080/"
        },
        "id": "frmjI4gzHTHG",
        "outputId": "c25e7148-b5ae-4365-a570-29e9c71b9e83"
      },
      "execution_count": 18,
      "outputs": [
        {
          "output_type": "stream",
          "name": "stdout",
          "text": [
            "0\n",
            "49\n"
          ]
        }
      ]
    },
    {
      "cell_type": "markdown",
      "source": [
        "Create a zero array of size 10 and replace 5th element with 1."
      ],
      "metadata": {
        "id": "_cM0kxrMOz3O"
      }
    },
    {
      "cell_type": "code",
      "source": [
        "zeros_num = np.zeros((10))\n",
        "zeros_num[5] = 1\n",
        "print(zeros_num)"
      ],
      "metadata": {
        "colab": {
          "base_uri": "https://localhost:8080/"
        },
        "id": "qZ8On74BPBSZ",
        "outputId": "bd91b972-777b-49a8-be2e-404667717534"
      },
      "execution_count": 19,
      "outputs": [
        {
          "output_type": "stream",
          "name": "stdout",
          "text": [
            "[0. 0. 0. 0. 0. 1. 0. 0. 0. 0.]\n"
          ]
        }
      ]
    },
    {
      "cell_type": "markdown",
      "source": [
        "Reverse an array arr = [1,2,0,0,4,0].\n"
      ],
      "metadata": {
        "id": "7fQqPOYOPORE"
      }
    },
    {
      "cell_type": "code",
      "source": [
        "arr = [1,2,0,0,4,0]\n",
        "rev_arr = arr[::-1]\n",
        "print(rev_arr)"
      ],
      "metadata": {
        "colab": {
          "base_uri": "https://localhost:8080/"
        },
        "id": "-HJWV1hSPV3T",
        "outputId": "812b3848-43cb-4c5f-a37c-b9700b95cdcf"
      },
      "execution_count": 20,
      "outputs": [
        {
          "output_type": "stream",
          "name": "stdout",
          "text": [
            "[0, 4, 0, 0, 2, 1]\n"
          ]
        }
      ]
    },
    {
      "cell_type": "markdown",
      "source": [
        "Create a 2d array with 1 on border and 0 inside"
      ],
      "metadata": {
        "id": "eqHpJ_PgPaB-"
      }
    },
    {
      "cell_type": "code",
      "source": [
        "import numpy as np\n",
        "\n",
        "array_one_zero = np.zeros((2, 4), dtype=int)\n",
        "\n",
        "array_one_zero[:, 0] = 1\n",
        "array_one_zero[:, -1] = 1\n",
        "\n",
        "print(array_one_zero)"
      ],
      "metadata": {
        "colab": {
          "base_uri": "https://localhost:8080/"
        },
        "id": "LlxG1ftVPfGv",
        "outputId": "5d29db2d-c09a-4e43-a2fe-8f6a45fe5396"
      },
      "execution_count": 21,
      "outputs": [
        {
          "output_type": "stream",
          "name": "stdout",
          "text": [
            "[[1 0 0 1]\n",
            " [1 0 0 1]]\n"
          ]
        }
      ]
    },
    {
      "cell_type": "markdown",
      "source": [
        "Create a 8X8 matrix and fill it with a checkerboard pattern."
      ],
      "metadata": {
        "id": "wTVHmJ95Pj1a"
      }
    },
    {
      "cell_type": "code",
      "source": [
        "import numpy as np\n",
        "\n",
        "array_one_zero = np.zeros((8, 8), dtype=int)\n",
        "\n",
        "for i in array_one_zero:\n",
        "    print(\"\\n-------------------------------\")\n",
        "    for j in i:\n",
        "        print(j, end=\" | \")\n",
        "    # print(\"\\n------------------------------\")"
      ],
      "metadata": {
        "colab": {
          "base_uri": "https://localhost:8080/"
        },
        "id": "PIg5iRuJPoOE",
        "outputId": "0507a79f-26b9-4541-bafd-a2c40136c6fa"
      },
      "execution_count": 26,
      "outputs": [
        {
          "output_type": "stream",
          "name": "stdout",
          "text": [
            "\n",
            "-------------------------------\n",
            "0 | 0 | 0 | 0 | 0 | 0 | 0 | 0 | \n",
            "-------------------------------\n",
            "0 | 0 | 0 | 0 | 0 | 0 | 0 | 0 | \n",
            "-------------------------------\n",
            "0 | 0 | 0 | 0 | 0 | 0 | 0 | 0 | \n",
            "-------------------------------\n",
            "0 | 0 | 0 | 0 | 0 | 0 | 0 | 0 | \n",
            "-------------------------------\n",
            "0 | 0 | 0 | 0 | 0 | 0 | 0 | 0 | \n",
            "-------------------------------\n",
            "0 | 0 | 0 | 0 | 0 | 0 | 0 | 0 | \n",
            "-------------------------------\n",
            "0 | 0 | 0 | 0 | 0 | 0 | 0 | 0 | \n",
            "-------------------------------\n",
            "0 | 0 | 0 | 0 | 0 | 0 | 0 | 0 | "
          ]
        }
      ]
    },
    {
      "cell_type": "markdown",
      "source": [
        "### Array Operations:"
      ],
      "metadata": {
        "id": "MCMf7P6tQ9mU"
      }
    },
    {
      "cell_type": "code",
      "source": [
        "import numpy as np\n",
        "\n",
        "x = np.array([[1, 2], [3, 5]])\n",
        "y = np.array([[5, 6], [7, 8]])\n",
        "w = np.array([11, 12])\n",
        "v = np.array([9, 10])\n",
        "\n",
        "# Add\n",
        "print(np.add(x, y))\n",
        "print(\"\")\n",
        "\n",
        "# Subtract the two arrays.\n",
        "print(np.subtract(x, y))\n",
        "print(\"\")\n",
        "\n",
        "# Multiply the array with any integers of your choice.\n",
        "print(np.multiply(v, 10))\n",
        "print(\"\")\n",
        "\n",
        "# Find the square of each element of the array.\n",
        "print(np.square(w))\n",
        "print(\"\")\n",
        "\n",
        "# Find the dot product between: v and w ; x and v ; x and y.\n",
        "print(np.dot(v, w))\n",
        "print(\"\")\n",
        "print(np.dot(x, v))\n",
        "print(\"\")\n",
        "print(np.dot(x, y))\n",
        "print(\"\")\n"
      ],
      "metadata": {
        "colab": {
          "base_uri": "https://localhost:8080/"
        },
        "id": "ia7gmnW3RSM7",
        "outputId": "c5f231eb-1cac-4507-cb1e-79ccf53e4c69"
      },
      "execution_count": 30,
      "outputs": [
        {
          "output_type": "stream",
          "name": "stdout",
          "text": [
            "[[ 6  8]\n",
            " [10 13]]\n",
            "\n",
            "[[-4 -4]\n",
            " [-4 -3]]\n",
            "\n",
            "[ 90 100]\n",
            "\n",
            "[121 144]\n",
            "\n",
            "219\n",
            "\n",
            "[29 77]\n",
            "\n",
            "[[19 22]\n",
            " [50 58]]\n",
            "\n"
          ]
        }
      ]
    },
    {
      "cell_type": "markdown",
      "source": [
        "# Problem - 4: Matrix Operations:"
      ],
      "metadata": {
        "id": "qv_AOHsgRm7t"
      }
    },
    {
      "cell_type": "code",
      "source": [
        "A = np.array([[3,4],[7,8]])\n",
        "B = np.array([[5,3],[2,1]])"
      ],
      "metadata": {
        "id": "EPKz3z2xRv70"
      },
      "execution_count": 32,
      "outputs": []
    },
    {
      "cell_type": "code",
      "source": [
        "#Prove A.A−1 = I.\n",
        "A_Inv = lg.inv(A)\n",
        "dot_product = np.dot(A,A_Inv)\n",
        "rounded_dot = np.round(dot_product,decimals=10)\n",
        "i = [[1,0],[0,1]]\n",
        "is_equal = i==rounded_dot\n",
        "print(is_equal)\n",
        "#proved"
      ],
      "metadata": {
        "colab": {
          "base_uri": "https://localhost:8080/"
        },
        "id": "EXOooHisRzGD",
        "outputId": "efe2d93c-da11-4339-8cfb-7f8b2e0e7985"
      },
      "execution_count": 33,
      "outputs": [
        {
          "output_type": "stream",
          "name": "stdout",
          "text": [
            "[[ True  True]\n",
            " [ True  True]]\n"
          ]
        }
      ]
    },
    {
      "cell_type": "code",
      "source": [
        "#Prove AB ̸= BA.\n",
        "dot_of_AB = np.dot(A,B)\n",
        "dot_of_BA = np.dot(B,A)\n",
        "is_equal = dot_of_AB==dot_of_BA\n",
        "print(is_equal)"
      ],
      "metadata": {
        "colab": {
          "base_uri": "https://localhost:8080/"
        },
        "id": "cd21AvjDR7XL",
        "outputId": "90e4c1f9-7b97-4524-c423-fc34d43ca69d"
      },
      "execution_count": 34,
      "outputs": [
        {
          "output_type": "stream",
          "name": "stdout",
          "text": [
            "[[False False]\n",
            " [False False]]\n"
          ]
        }
      ]
    },
    {
      "cell_type": "code",
      "source": [
        "AB_transpose = np.transpose(dot_of_AB)\n",
        "A_transpose = np.transpose(A)\n",
        "B_transpose = np.transpose(B)\n",
        "A_transpose_B = np.dot(B_transpose,A_transpose)\n",
        "is_equal = AB_transpose==A_transpose_B\n",
        "print(is_equal)"
      ],
      "metadata": {
        "colab": {
          "base_uri": "https://localhost:8080/"
        },
        "id": "W-k2pRdDR-_I",
        "outputId": "84721123-9807-448e-af03-2efcb368061f"
      },
      "execution_count": 35,
      "outputs": [
        {
          "output_type": "stream",
          "name": "stdout",
          "text": [
            "[[ True  True]\n",
            " [ True  True]]\n"
          ]
        }
      ]
    },
    {
      "cell_type": "code",
      "source": [
        "#Solve the following system of Linear equation using Inverse Methods.\n",
        "A = [[2,-3,1],[1,-1,2],[3,1,-1]]\n",
        "B = [[-1],[-3],[9]]\n",
        "\n",
        "#X=A −1⋅B\n",
        "inv_of_A = lg.inv(A)\n",
        "X = np.dot(inv_of_A,B)\n",
        "print(\"X = \")\n",
        "print(X)"
      ],
      "metadata": {
        "colab": {
          "base_uri": "https://localhost:8080/"
        },
        "id": "UrzoSuVdSCFV",
        "outputId": "29812270-51bc-4371-ff34-3e33c711600a"
      },
      "execution_count": 36,
      "outputs": [
        {
          "output_type": "stream",
          "name": "stdout",
          "text": [
            "X = \n",
            "[[ 2.]\n",
            " [ 1.]\n",
            " [-2.]]\n"
          ]
        }
      ]
    },
    {
      "cell_type": "code",
      "source": [
        "import numpy as np\n",
        "import time\n",
        "\n",
        "# Task 1: Element-wise Addition\n",
        "size = 1_000_000\n",
        "list1 = list(range(size))\n",
        "list2 = list(range(size))\n",
        "array1 = np.array(list1)\n",
        "array2 = np.array(list2)\n",
        "\n",
        "# Using Python lists\n",
        "start_time = time.time()\n",
        "result_list_add = [list1[i] + list2[i] for i in range(size)]\n",
        "time_list_add = time.time() - start_time\n",
        "print(f\"Time for addition with Python lists: {time_list_add:.6f} seconds\")\n",
        "\n",
        "# Using NumPy arrays\n",
        "start_time = time.time()\n",
        "result_array_add = array1 + array2\n",
        "time_array_add = time.time() - start_time\n",
        "print(f\"Time for addition with NumPy arrays: {time_array_add:.6f} seconds\")\n",
        "\n",
        "# Task 2: Element-wise Multiplication\n",
        "# Using Python lists\n",
        "start_time = time.time()\n",
        "result_list_mul = [list1[i] * list2[i] for i in range(size)]\n",
        "time_list_mul = time.time() - start_time\n",
        "print(f\"Time for multiplication with Python lists: {time_list_mul:.6f} seconds\")\n",
        "\n",
        "# Using NumPy arrays\n",
        "start_time = time.time()\n",
        "result_array_mul = array1 * array2\n",
        "time_array_mul = time.time() - start_time\n",
        "print(f\"Time for multiplication with NumPy arrays: {time_array_mul:.6f} seconds\")\n",
        "\n",
        "# Task 3: Dot Product\n",
        "# Using Python lists\n",
        "start_time = time.time()\n",
        "dot_product_list = sum(list1[i] * list2[i] for i in range(size))\n",
        "time_list_dot = time.time() - start_time\n",
        "print(f\"Time for dot product with Python lists: {time_list_dot:.6f} seconds\")\n",
        "\n",
        "# Using NumPy arrays\n",
        "start_time = time.time()\n",
        "dot_product_array = np.dot(array1, array2)\n",
        "time_array_dot = time.time() - start_time\n",
        "print(f\"Time for dot product with NumPy arrays: {time_array_dot:.6f} seconds\")\n",
        "\n",
        "# Task 4: Matrix Multiplication\n",
        "matrix_size = 1000\n",
        "matrix1 = [[i for i in range(matrix_size)] for _ in range(matrix_size)]\n",
        "matrix2 = [[i for i in range(matrix_size)] for _ in range(matrix_size)]\n",
        "matrix1_np = np.array(matrix1)\n",
        "matrix2_np = np.array(matrix2)\n",
        "\n",
        "# Using Python lists\n",
        "start_time = time.time()\n",
        "result_matrix_mul = [[sum(a * b for a, b in zip(row, col)) for col in zip(*matrix2)] for row in matrix1]\n",
        "time_list_matrix_mul = time.time() - start_time\n",
        "print(f\"Time for matrix multiplication with Python lists: {time_list_matrix_mul:.6f} seconds\")\n",
        "\n",
        "# Using NumPy arrays\n",
        "start_time = time.time()\n",
        "result_matrix_mul_np = np.dot(matrix1_np, matrix2_np)\n",
        "time_array_matrix_mul = time.time() - start_time\n",
        "print(f\"Time for matrix multiplication with NumPy arrays: {time_array_matrix_mul:.6f} seconds\")\n"
      ],
      "metadata": {
        "colab": {
          "base_uri": "https://localhost:8080/"
        },
        "id": "9FHtVnIySHIr",
        "outputId": "38f585fc-d960-4de7-c18e-47dee9de941d"
      },
      "execution_count": null,
      "outputs": [
        {
          "output_type": "stream",
          "name": "stdout",
          "text": [
            "Time for addition with Python lists: 0.156661 seconds\n",
            "Time for addition with NumPy arrays: 0.005198 seconds\n",
            "Time for multiplication with Python lists: 0.236630 seconds\n",
            "Time for multiplication with NumPy arrays: 0.006201 seconds\n",
            "Time for dot product with Python lists: 0.277566 seconds\n",
            "Time for dot product with NumPy arrays: 0.002150 seconds\n"
          ]
        }
      ]
    }
  ]
}